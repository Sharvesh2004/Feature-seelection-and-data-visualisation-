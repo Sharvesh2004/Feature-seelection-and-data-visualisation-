{
 "cells": [
  {
   "cell_type": "code",
   "execution_count": 2,
   "id": "e6a9350d",
   "metadata": {},
   "outputs": [
    {
     "name": "stdout",
     "output_type": "stream",
     "text": [
      "  Category  Value\n",
      "0        A    1.0\n",
      "1        A    2.0\n",
      "2        B    3.0\n",
      "3        B    4.0\n",
      "4        A    NaN\n",
      "5        B    6.0\n",
      "6        A    7.0\n",
      "7        B    NaN\n",
      "  Category  Value\n",
      "0        A    1.0\n",
      "1        A    2.0\n",
      "2        B    3.0\n",
      "3        B    4.0\n",
      "4        A    2.0\n",
      "5        B    6.0\n",
      "6        A    7.0\n",
      "7        B    4.0\n"
     ]
    }
   ],
   "source": [
    "import pandas as pd\n",
    "\n",
    "data = {\n",
    "    'Category': ['A', 'A', 'B', 'B', 'A', 'B', 'A', 'B'],\n",
    "    'Value': [1, 2, 3, 4, None, 6, 7, None]\n",
    "}\n",
    "df = pd.DataFrame(data)\n",
    "\n",
    "print(df)\n",
    "\n",
    "\n",
    "df['Value'] = df.groupby('Category')['Value'].transform(lambda x: x.fillna(x.median()))\n",
    "\n",
    "print(df)\n"
   ]
  },
  {
   "cell_type": "code",
   "execution_count": null,
   "id": "a80d9ceb",
   "metadata": {},
   "outputs": [],
   "source": []
  }
 ],
 "metadata": {
  "kernelspec": {
   "display_name": "Python 3 (ipykernel)",
   "language": "python",
   "name": "python3"
  },
  "language_info": {
   "codemirror_mode": {
    "name": "ipython",
    "version": 3
   },
   "file_extension": ".py",
   "mimetype": "text/x-python",
   "name": "python",
   "nbconvert_exporter": "python",
   "pygments_lexer": "ipython3",
   "version": "3.11.7"
  }
 },
 "nbformat": 4,
 "nbformat_minor": 5
}
